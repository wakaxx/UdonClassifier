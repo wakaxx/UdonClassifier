{
 "cells": [
  {
   "cell_type": "code",
   "execution_count": 1,
   "metadata": {},
   "outputs": [],
   "source": [
    "from PIL import Image\n",
    "import os, glob\n",
    "import numpy as np\n",
    "from sklearn import model_selection"
   ]
  },
  {
   "cell_type": "code",
   "execution_count": null,
   "metadata": {},
   "outputs": [],
   "source": []
  },
  {
   "cell_type": "code",
   "execution_count": 2,
   "metadata": {},
   "outputs": [],
   "source": [
    "# 変数の初期化（クラスラベルの定義と画像サイズの指定）\n",
    "classes = ['kake','kama','bukkake','kayaku']\n",
    "num_classes = len(classes)\n",
    "image_size = 299\n",
    "X = []\n",
    "Y = []"
   ]
  },
  {
   "cell_type": "code",
   "execution_count": null,
   "metadata": {},
   "outputs": [],
   "source": []
  },
  {
   "cell_type": "code",
   "execution_count": 3,
   "metadata": {},
   "outputs": [
    {
     "name": "stderr",
     "output_type": "stream",
     "text": [
      "C:\\Users\\s-kimura\\AppData\\Local\\Continuum\\anaconda3\\lib\\site-packages\\PIL\\Image.py:993: UserWarning: Palette images with Transparency expressed in bytes should be converted to RGBA images\n",
      "  \"Palette images with Transparency expressed in bytes should be \"\n"
     ]
    }
   ],
   "source": [
    "for index, classlabel in enumerate(classes): # classesから値を取り出し付番\n",
    "    # ディレクトリ名を生成\n",
    "    photos_dir = \"./img/\" + classlabel\n",
    "    files = glob.glob(photos_dir + \"/*.jpg\")\n",
    "    \n",
    "    # 各ファイルをNumPyに変換し、リストに追加\n",
    "    for i, file in enumerate(files): \n",
    "        if i >= 150: break\n",
    "        image = Image.open(file)\n",
    "        image = image.convert(\"RGB\")\n",
    "        image = image.resize((image_size, image_size))\n",
    "        data = np.asarray(image)\n",
    "        X.append(data)\n",
    "        Y.append(index)\n",
    "\n",
    "# リスト型変数X,YをNumPyアレーに変換\n",
    "X = np.array(X)\n",
    "Y = np.array(Y)"
   ]
  },
  {
   "cell_type": "code",
   "execution_count": 4,
   "metadata": {},
   "outputs": [],
   "source": [
    "# XとYを分割して、トレーニング用とテスト用に格納\n",
    "X_train, X_test, y_train, y_test = model_selection.train_test_split(X, Y)\n",
    "np.save(\"./data/X_train.npy\", X_train)\n",
    "np.save(\"./data/X_test.npy\", X_test)\n",
    "np.save(\"./data/y_train.npy\", y_train)\n",
    "np.save(\"./data/y_test.npy\", y_test)\n",
    "\n",
    "#xy = (X_train, X_test, y_train, y_test)\n",
    "#np.save(\"./data/udon.npy\", xy)"
   ]
  },
  {
   "cell_type": "code",
   "execution_count": null,
   "metadata": {},
   "outputs": [],
   "source": []
  },
  {
   "cell_type": "code",
   "execution_count": null,
   "metadata": {},
   "outputs": [],
   "source": []
  }
 ],
 "metadata": {
  "kernelspec": {
   "display_name": "Python 3",
   "language": "python",
   "name": "python3"
  },
  "language_info": {
   "codemirror_mode": {
    "name": "ipython",
    "version": 3
   },
   "file_extension": ".py",
   "mimetype": "text/x-python",
   "name": "python",
   "nbconvert_exporter": "python",
   "pygments_lexer": "ipython3",
   "version": "3.7.3"
  }
 },
 "nbformat": 4,
 "nbformat_minor": 2
}
